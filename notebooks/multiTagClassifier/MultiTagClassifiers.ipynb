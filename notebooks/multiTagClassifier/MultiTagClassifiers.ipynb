{
 "cells": [
  {
   "cell_type": "code",
   "execution_count": 61,
   "metadata": {},
   "outputs": [],
   "source": [
    "import numpy as np\n",
    "import matplotlib.pyplot as plt\n",
    "import matplotlib.image as mpimg\n",
    "import scipy\n",
    "import os\n",
    "from sklearn.model_selection import cross_validate\n",
    "from sklearn.neural_network import MLPClassifier\n",
    "from sklearn.neighbors import KNeighborsClassifier\n",
    "from sklearn.svm import SVC\n",
    "from sklearn.gaussian_process import GaussianProcessClassifier\n",
    "from sklearn.gaussian_process.kernels import RBF\n",
    "from sklearn.tree import DecisionTreeClassifier\n",
    "from sklearn.ensemble import RandomForestClassifier, AdaBoostClassifier\n",
    "from sklearn.naive_bayes import GaussianNB\n",
    "from sklearn.discriminant_analysis import QuadraticDiscriminantAnalysis"
   ]
  },
  {
   "cell_type": "code",
   "execution_count": 62,
   "metadata": {},
   "outputs": [],
   "source": [
    "datasetPath = '../../NumpyImages/'\n",
    "tagFile = './imagePerTag.npy'"
   ]
  },
  {
   "cell_type": "code",
   "execution_count": 63,
   "metadata": {},
   "outputs": [],
   "source": [
    "#Constants\n",
    "classes = ['Moon','Day','ISS Structure','Volcano','Surface','Sun','Agriculture','Solar Panels','Inside ISS','Aurora','Clouds','Night','Atmosphere','Spacecraft','Deployed satellite','Movie','Hurricane','Solar Eclipse','Cupola','Dock Undock']\n",
    "scoring = ['accuracy','neg_log_loss','precision_macro', 'recall_macro']"
   ]
  },
  {
   "cell_type": "code",
   "execution_count": 64,
   "metadata": {},
   "outputs": [],
   "source": [
    "tags = np.load(tagFile).item()"
   ]
  },
  {
   "cell_type": "code",
   "execution_count": 65,
   "metadata": {},
   "outputs": [],
   "source": [
    "def convertFilePath(imageList):\n",
    "    images = []\n",
    "    for img in imageList:\n",
    "        imageFileName = img.split('/').pop()\n",
    "        imageFileName += '.npy'\n",
    "        images.append(imageFileName)\n",
    "    return images"
   ]
  },
  {
   "cell_type": "code",
   "execution_count": 66,
   "metadata": {},
   "outputs": [],
   "source": [
    "def loadImagesForTag(tag):\n",
    "    positiveImages = tags[tag]\n",
    "    negtiveImages = []\n",
    "    for negitiveTag in tags:\n",
    "        if(negitiveTag != tag):\n",
    "            negtiveImages = sum([negtiveImages,tags[negitiveTag]],[])\n",
    "    positiveImages = set(positiveImages)\n",
    "    negtiveImages = set(negtiveImages)\n",
    "    negtiveImages = negtiveImages - positiveImages\n",
    "    return convertFilePath(list(positiveImages)), convertFilePath(list(negtiveImages))"
   ]
  },
  {
   "cell_type": "code",
   "execution_count": 67,
   "metadata": {},
   "outputs": [],
   "source": [
    "def loadDataSet(positiveImages,negtiveImages):\n",
    "    X = []\n",
    "    y = []\n",
    "    for positiveImage in positiveImages:\n",
    "        X.append(np.load(datasetPath + positiveImage))\n",
    "        y.append('true')\n",
    "        \n",
    "    for negtiveImage in negtiveImages:\n",
    "        X.append(np.load(datasetPath + negtiveImage))\n",
    "        y.append('false')\n",
    "        \n",
    "    return X,y"
   ]
  },
  {
   "cell_type": "code",
   "execution_count": 68,
   "metadata": {},
   "outputs": [],
   "source": [
    "names = [\"Nearest Neighbors\", \n",
    "         #\"Linear SVM\", \n",
    "         #\"RBF SVM\", \n",
    "         #\"Gaussian Process\",\n",
    "         \"Decision Tree\", \n",
    "         \"Random Forest\", \n",
    "         \"Neural Net\", \n",
    "         \"AdaBoost\",\n",
    "         \"Naive Bayes\",\n",
    "         \"SVM\",\n",
    "         #\"QDA\"\n",
    "        ]\n",
    "\n",
    "classifiers = [\n",
    "    KNeighborsClassifier(3),\n",
    "    #SVC(kernel=\"linear\", C=0.025, probability=True),\n",
    "    #SVC(gamma=2, C=1, probability=True),\n",
    "    #GaussianProcessClassifier(1.0 * RBF(1.0)), #This took forever and only returned 12%\n",
    "    DecisionTreeClassifier(max_depth=5),\n",
    "    RandomForestClassifier(max_depth=5, n_estimators=10, max_features=1),\n",
    "    MLPClassifier(alpha=1),\n",
    "    AdaBoostClassifier(),\n",
    "    GaussianNB(),\n",
    "    SVC(probability=True)\n",
    "    #QuadraticDiscriminantAnalysis() # Did not converage\n",
    "]"
   ]
  },
  {
   "cell_type": "code",
   "execution_count": 74,
   "metadata": {},
   "outputs": [],
   "source": [
    "def classify(tag,X,y):\n",
    "    for name, clf in zip(names, classifiers):\n",
    "        scores = cross_validate(clf, X,y, cv=5)\n",
    "        mean = scores['test_score'].mean()\n",
    "        std = scores['test_score'].std() * 2\n",
    "        print([tag,name, mean, std].join(', '))"
   ]
  },
  {
   "cell_type": "code",
   "execution_count": 80,
   "metadata": {},
   "outputs": [],
   "source": [
    "def testTag(tag):\n",
    "    pos, neg = loadImagesForTag(tag)\n",
    "    X,y = loadDataSet(pos,neg)\n",
    "    classify(X,y)"
   ]
  },
  {
   "cell_type": "code",
   "execution_count": null,
   "metadata": {},
   "outputs": [
    {
     "name": "stdout",
     "output_type": "stream",
     "text": [
      "Tag, Classifier, Accurcy, std\n",
      "Nearest Neighbors\n"
     ]
    }
   ],
   "source": [
    "print('Tag, Classifier, Accurcy, std')\n",
    "testTag(classes[0])"
   ]
  }
 ],
 "metadata": {
  "kernelspec": {
   "display_name": "Python 3",
   "language": "python",
   "name": "python3"
  },
  "language_info": {
   "codemirror_mode": {
    "name": "ipython",
    "version": 3
   },
   "file_extension": ".py",
   "mimetype": "text/x-python",
   "name": "python",
   "nbconvert_exporter": "python",
   "pygments_lexer": "ipython3",
   "version": "3.6.2"
  }
 },
 "nbformat": 4,
 "nbformat_minor": 1
}
