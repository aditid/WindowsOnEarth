{
 "cells": [
  {
   "cell_type": "code",
   "execution_count": 1,
   "metadata": {
    "collapsed": true
   },
   "outputs": [],
   "source": [
    "#SSIM = Structural Similarity Index"
   ]
  },
  {
   "cell_type": "code",
   "execution_count": 2,
   "metadata": {
    "collapsed": false
   },
   "outputs": [],
   "source": [
    "import numpy as np\n",
    "import matplotlib.pyplot as plt\n",
    "import matplotlib.image as mpimg\n",
    "import scipy\n",
    "import os\n",
    "import random\n",
    "from scipy import stats\n",
    "from skimage import data, img_as_float\n",
    "from skimage.measure import compare_ssim as ssim\n",
    "from PIL import ImageChops\n",
    "from PIL import Image"
   ]
  },
  {
   "cell_type": "code",
   "execution_count": 3,
   "metadata": {
    "collapsed": true
   },
   "outputs": [],
   "source": [
    "imageX = 64\n",
    "imageY = 64"
   ]
  },
  {
   "cell_type": "code",
   "execution_count": 4,
   "metadata": {
    "collapsed": true
   },
   "outputs": [],
   "source": [
    "def forceLandscape(image):\n",
    "    if image.shape[0] > image.shape[1]:\n",
    "        return np.rot90(image)\n",
    "    return image\n",
    "\n",
    "#functions for array\n",
    "def resizeImage(image, x, y):\n",
    "    return scipy.misc.imresize(image,(x,y), interp='nearest')\n",
    "\n",
    "def grayscale(image):\n",
    "    return np.dot(image[...,:3], [0.21, 0.72, 0.07])\n",
    "\n",
    "def reshape(image):\n",
    "    return image.flatten()\n",
    "\n",
    "#functions for images\n",
    "def resizeNearest(image, x, y):\n",
    "    # use nearest neighbour\n",
    "     return (image.resize((x, y), Image.NEAREST))\n",
    "    \n",
    "def resizeLinear(image, x, y):\n",
    "    # linear interpolation in a 2x2 environment\n",
    "    return(image.resize((x, y), Image.BILINEAR))\n",
    "\n",
    "def resizeLinear(image, x, y):\n",
    "    # cubic spline interpolation in a 4x4 environment\n",
    "    return(image.resize((x, y), Image.BICUBIC))\n",
    "\n",
    "def resizeLinear(image, x, y):\n",
    "    # best down-sizing filter\n",
    "    return (image.resize((x, y), Image.ANTIALIAS))\n"
   ]
  },
  {
   "cell_type": "code",
   "execution_count": 5,
   "metadata": {
    "collapsed": true
   },
   "outputs": [],
   "source": [
    "def formatImage(image):\n",
    "    image = forceLandscape(image)\n",
    "    image = resizeImage(image, imageX, imageY)\n",
    "    image = grayscale(image)\n",
    "    return image"
   ]
  },
  {
   "cell_type": "code",
   "execution_count": 6,
   "metadata": {
    "collapsed": false
   },
   "outputs": [],
   "source": [
    "#Load Images\n",
    "datasetPath = '../../../TERC/WinEarthPhotosByKeyword/'\n",
    "imageClass = 'Movies3of36PhotosEach'\n",
    "imageDirectory = os.listdir(datasetPath + imageClass)\n",
    "if imageDirectory[0] == '.DS_Store':\n",
    "    imageDirectory.pop(0)\n",
    "data = imageDirectory"
   ]
  },
  {
   "cell_type": "code",
   "execution_count": 7,
   "metadata": {
    "collapsed": true
   },
   "outputs": [],
   "source": [
    "#Load Random Images\n",
    "datasetPath2 = '../../../BU10000SetA/'\n",
    "imageDirectory2 = [random.choice(os.listdir(datasetPath2)) for x in range(0,108)]\n",
    "if imageDirectory2[0] == '.DS_Store':\n",
    "    imageDirectory2.pop(0)\n",
    "randomData = imageDirectory2"
   ]
  },
  {
   "cell_type": "code",
   "execution_count": 8,
   "metadata": {
    "collapsed": false
   },
   "outputs": [
    {
     "name": "stdout",
     "output_type": "stream",
     "text": [
      "loading complete\n"
     ]
    }
   ],
   "source": [
    "for i in range(0, len(data)):\n",
    "    imagePath = datasetPath + imageClass + \"/\" +  data[i]\n",
    "    img = Image.open(imagePath)\n",
    "    data[i] = resizeNearest(img, imageX, imageY)\n",
    "    \n",
    "print(\"loading complete\")"
   ]
  },
  {
   "cell_type": "code",
   "execution_count": 22,
   "metadata": {
    "collapsed": false
   },
   "outputs": [
    {
     "name": "stdout",
     "output_type": "stream",
     "text": [
      "loading complete\n"
     ]
    }
   ],
   "source": [
    "#random data loading\n",
    "for i in range(0, len(randomData)):\n",
    "    imagePath = datasetPath2 +  randomData[i]\n",
    "    img = Image.open(imagePath)\n",
    "    randomData[i] = resizeNearest(img, imageX, imageY)\n",
    "\n",
    "print(\"loading complete\")"
   ]
  },
  {
   "cell_type": "code",
   "execution_count": 23,
   "metadata": {
    "collapsed": true
   },
   "outputs": [],
   "source": [
    "def ssim(imageA, imageB):\n",
    "    err = ssim(imageA, imageB)\n",
    "    return err"
   ]
  },
  {
   "cell_type": "code",
   "execution_count": 24,
   "metadata": {
    "collapsed": true
   },
   "outputs": [],
   "source": [
    "def getResult(dataset):\n",
    "    results = []\n",
    "    for i in range(0,len(dataset)-1):\n",
    "        results.append(ssim(dataset[i],dataset[i+1]))\n",
    "    return (results)"
   ]
  },
  {
   "cell_type": "code",
   "execution_count": 1,
   "metadata": {
    "collapsed": false
   },
   "outputs": [
    {
     "ename": "NameError",
     "evalue": "name 'data' is not defined",
     "output_type": "error",
     "traceback": [
      "\u001b[0;31m---------------------------------------------------------------------------\u001b[0m",
      "\u001b[0;31mNameError\u001b[0m                                 Traceback (most recent call last)",
      "\u001b[0;32m<ipython-input-1-aff36ed599e3>\u001b[0m in \u001b[0;36m<module>\u001b[0;34m()\u001b[0m\n\u001b[1;32m      1\u001b[0m \u001b[0;31m#Calculate mean measure within data set\u001b[0m\u001b[0;34m\u001b[0m\u001b[0;34m\u001b[0m\u001b[0m\n\u001b[0;32m----> 2\u001b[0;31m \u001b[0mset1\u001b[0m \u001b[0;34m=\u001b[0m \u001b[0mdata\u001b[0m\u001b[0;34m[\u001b[0m\u001b[0;34m:\u001b[0m\u001b[0;36m36\u001b[0m\u001b[0;34m]\u001b[0m\u001b[0;34m\u001b[0m\u001b[0m\n\u001b[0m\u001b[1;32m      3\u001b[0m \u001b[0mset2\u001b[0m \u001b[0;34m=\u001b[0m \u001b[0mdata\u001b[0m\u001b[0;34m[\u001b[0m\u001b[0;36m36\u001b[0m\u001b[0;34m:\u001b[0m\u001b[0;36m72\u001b[0m\u001b[0;34m]\u001b[0m\u001b[0;34m\u001b[0m\u001b[0m\n\u001b[1;32m      4\u001b[0m \u001b[0mset3\u001b[0m \u001b[0;34m=\u001b[0m \u001b[0mdata\u001b[0m\u001b[0;34m[\u001b[0m\u001b[0;36m72\u001b[0m\u001b[0;34m:\u001b[0m\u001b[0;34m]\u001b[0m\u001b[0;34m\u001b[0m\u001b[0m\n\u001b[1;32m      5\u001b[0m \u001b[0mresults\u001b[0m \u001b[0;34m=\u001b[0m \u001b[0;34m[\u001b[0m\u001b[0mgetResult\u001b[0m\u001b[0;34m(\u001b[0m\u001b[0mset1\u001b[0m\u001b[0;34m)\u001b[0m\u001b[0;34m,\u001b[0m\u001b[0mgetResult\u001b[0m\u001b[0;34m(\u001b[0m\u001b[0mset2\u001b[0m\u001b[0;34m)\u001b[0m\u001b[0;34m,\u001b[0m\u001b[0mgetResult\u001b[0m\u001b[0;34m(\u001b[0m\u001b[0mset3\u001b[0m\u001b[0;34m)\u001b[0m\u001b[0;34m]\u001b[0m\u001b[0;34m\u001b[0m\u001b[0m\n",
      "\u001b[0;31mNameError\u001b[0m: name 'data' is not defined"
     ]
    }
   ],
   "source": [
    "#Calculate mean measure within data set\n",
    "set1 = data[:36]\n",
    "set2 = data[36:72]\n",
    "set3 = data[72:]\n",
    "\n",
    "results = [getResult(set1),getResult(set2),getResult(set3)]\n",
    "mean = [np.mean(results[0]),np.mean(results[1]),np.mean(results[2])]\n",
    "std = [np.std(results[0]),np.std(results[1]),np.std(results[2])]"
   ]
  },
  {
   "cell_type": "code",
   "execution_count": 14,
   "metadata": {
    "collapsed": true
   },
   "outputs": [],
   "source": [
    "#Calculate mean measure within random data set\n",
    "rset1 = randomData[:36]\n",
    "rset2 = randomData[36:72]\n",
    "rset3 = randomData[72:]\n",
    "\n",
    "randomResults = [getResult(rset1),getResult(rset2),getResult(rset3)]\n",
    "randomMean = [np.mean(randomResults[0]),np.mean(randomResults[1]),np.mean(randomResults[2])]\n",
    "randomStd = [np.std(randomResults[0]),np.std(randomResults[1]),np.std(randomResults[2])]"
   ]
  },
  {
   "cell_type": "code",
   "execution_count": 15,
   "metadata": {
    "collapsed": false
   },
   "outputs": [
    {
     "name": "stdout",
     "output_type": "stream",
     "text": [
      "Mean MSE for each Movie set:\n",
      "[120.45013461077006, 274.28712412458145, 788.22095293805796]\n",
      "\n",
      "Standard Deviation of MSE for each Movie set:\n",
      "[17.123181973182938, 22.247068708451604, 347.62305874261222]\n",
      "\n",
      "Mean MSE for some random set:\n",
      "[8471.0240386070018, 10090.292642047991, 6235.0035556466237]\n",
      "\n",
      "Standard MSE of Entropy for some random set:\n",
      "[6760.1707122884181, 5618.7932498191831, 4902.5995057476575]\n"
     ]
    }
   ],
   "source": [
    "# print(results)\n",
    "print(\"Mean SSIM for each Movie set:\")\n",
    "print(mean)\n",
    "print(\"\")\n",
    "\n",
    "print(\"Standard Deviation of SSIM for each Movie set:\")\n",
    "print(std)\n",
    "print(\"\")\n",
    "\n",
    "# print(randomResults)\n",
    "print(\"Mean SSIM for some random set:\")\n",
    "print(randomMean)\n",
    "print(\"\")\n",
    "\n",
    "print(\"Standard Deviation of SSIM for some random set:\")\n",
    "print(randomStd)"
   ]
  },
  {
   "cell_type": "code",
   "execution_count": 16,
   "metadata": {
    "collapsed": false
   },
   "outputs": [
    {
     "name": "stdout",
     "output_type": "stream",
     "text": [
      "T-test Results for 2 samples:\n",
      "Ttest_indResult(statistic=-13.306605468171886, pvalue=1.2349464564406418e-29)\n"
     ]
    }
   ],
   "source": [
    "#Compare similarity\n",
    "ttest = stats.ttest_ind(results[0] + results[1] + results[2], randomResults[0] + randomResults[1] + randomResults[2])\n",
    "print(\"T-test Results for 2 samples:\")\n",
    "print(ttest)"
   ]
  },
  {
   "cell_type": "code",
   "execution_count": 17,
   "metadata": {
    "collapsed": true
   },
   "outputs": [],
   "source": [
    "#Null Hypothesis = There is difference between samples\n",
    "#alpha = 0.05\n",
    "#p-value = 1.2349464564406418e-29\n",
    "#Since p-value <<< alpha, reject the null hypothesis. \n",
    "#Therefore, the difference between the population means is statistically significant"
   ]
  }
 ],
 "metadata": {
  "anaconda-cloud": {},
  "kernelspec": {
   "display_name": "Python [conda env:py27]",
   "language": "python",
   "name": "conda-env-py27-py"
  },
  "language_info": {
   "codemirror_mode": {
    "name": "ipython",
    "version": 2
   },
   "file_extension": ".py",
   "mimetype": "text/x-python",
   "name": "python",
   "nbconvert_exporter": "python",
   "pygments_lexer": "ipython2",
   "version": "2.7.12"
  }
 },
 "nbformat": 4,
 "nbformat_minor": 0
}
