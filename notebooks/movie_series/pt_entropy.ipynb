{
 "cells": [
  {
   "cell_type": "code",
   "execution_count": 1,
   "metadata": {
    "collapsed": false
   },
   "outputs": [
    {
     "data": {
      "text/plain": [
       "'\\nUSE PYTHON 2.7\\n'"
      ]
     },
     "execution_count": 1,
     "metadata": {},
     "output_type": "execute_result"
    }
   ],
   "source": [
    "#Panzeri-Treves (PT) bias correction\n",
    "#number of non-zero responses is estimated using a Bayesian procedure\n",
    "\n",
    "\"\"\"\n",
    "USE PYTHON 2.7\n",
    "\"\"\"\n",
    "\n",
    "#Install Macports here\n",
    "#https://guide.macports.org/chunked/installing.macports.html\n",
    "#Install pyentropy here\n",
    "#https://github.com/robince/pyentropy/blob/master/docs/source/examples.rst"
   ]
  },
  {
   "cell_type": "code",
   "execution_count": 2,
   "metadata": {
    "collapsed": false
   },
   "outputs": [],
   "source": [
    "import numpy as np\n",
    "import matplotlib.pyplot as plt\n",
    "import matplotlib.image as mpimg\n",
    "import scipy\n",
    "import scipy.misc\n",
    "import os\n",
    "import random\n",
    "from scipy import stats\n",
    "from pyentropy import DiscreteSystem"
   ]
  },
  {
   "cell_type": "code",
   "execution_count": 3,
   "metadata": {
    "collapsed": true
   },
   "outputs": [],
   "source": [
    "#Constants\n",
    "imageX = 64\n",
    "imageY = 64"
   ]
  },
  {
   "cell_type": "code",
   "execution_count": 4,
   "metadata": {
    "collapsed": true
   },
   "outputs": [],
   "source": [
    "def forceLandscape(image):\n",
    "    if image.shape[0] > image.shape[1]:\n",
    "        return np.rot90(image)\n",
    "    return image\n",
    "\n",
    "def resizeImage(image, x,y):\n",
    "    return scipy.misc.imresize(image,(x,y), interp='nearest')\n",
    "\n",
    "def grayscale(image):\n",
    "    return np.dot(image[...,:3], [0.21, 0.72, 0.07])\n",
    "\n",
    "def reshape(image):\n",
    "    return image.flatten()"
   ]
  },
  {
   "cell_type": "code",
   "execution_count": 5,
   "metadata": {
    "collapsed": true
   },
   "outputs": [],
   "source": [
    "def formatImage(image):\n",
    "    image = forceLandscape(image)\n",
    "    image = resizeImage(image, imageX, imageY)\n",
    "    image = grayscale(image)\n",
    "    return image"
   ]
  },
  {
   "cell_type": "code",
   "execution_count": 6,
   "metadata": {
    "collapsed": false
   },
   "outputs": [],
   "source": [
    "#Load Images\n",
    "datasetPath = '../../../TERC/WinEarthPhotosByKeyword/'\n",
    "imageClass = 'Movies3of36PhotosEach'\n",
    "imageDirectory = os.listdir(datasetPath + imageClass)\n",
    "if imageDirectory[0] == '.DS_Store':\n",
    "    imageDirectory.pop(0)\n",
    "data = imageDirectory\n"
   ]
  },
  {
   "cell_type": "code",
   "execution_count": 7,
   "metadata": {
    "collapsed": false
   },
   "outputs": [],
   "source": [
    "#Load Random Images\n",
    "datasetPath2 = '../../../BU10000SetA/'\n",
    "imageDirectory2 = [random.choice(os.listdir(datasetPath2)) for x in range(0,108)]\n",
    "if imageDirectory2[0] == '.DS_Store':\n",
    "    imageDirectory2.pop(0)\n",
    "randomData = imageDirectory2"
   ]
  },
  {
   "cell_type": "code",
   "execution_count": 8,
   "metadata": {
    "collapsed": false
   },
   "outputs": [
    {
     "name": "stdout",
     "output_type": "stream",
     "text": [
      "loading complete\n"
     ]
    }
   ],
   "source": [
    "for i in range(0, len(data)):\n",
    "    imagePath = datasetPath + imageClass + \"/\" +  data[i]\n",
    "    img = mpimg.imread(imagePath)\n",
    "    img = formatImage(img)\n",
    "    img = reshape(img)        #flatten the img\n",
    "    data[i] = img\n",
    "    \n",
    "print(\"loading complete\")"
   ]
  },
  {
   "cell_type": "code",
   "execution_count": 9,
   "metadata": {
    "collapsed": false
   },
   "outputs": [
    {
     "name": "stdout",
     "output_type": "stream",
     "text": [
      "loading complete\n"
     ]
    }
   ],
   "source": [
    "#random data loading\n",
    "for i in range(0, len(randomData)):\n",
    "    imagePath2 = datasetPath2 +  randomData[i]\n",
    "    img2 = mpimg.imread(imagePath2)\n",
    "    img2 = formatImage(img2)\n",
    "    img2 = reshape(img2)        #flatten the img\n",
    "    randomData[i] = img2\n",
    "    \n",
    "print(\"loading complete\")"
   ]
  },
  {
   "cell_type": "code",
   "execution_count": 13,
   "metadata": {
    "collapsed": true
   },
   "outputs": [],
   "source": [
    "#mean square error\n",
    "#the lower the MSE, the more \"similar\" the two images are\n",
    "def discreteSystem(data1, data2):\n",
    "    s = DiscreteSystem(data1.astype(int),(1,255), data2.astype(int),(1,255))\n",
    "    s.calculate_entropies(method='pt', calc=['HX', 'HXY'])\n",
    "    return s.I()"
   ]
  },
  {
   "cell_type": "code",
   "execution_count": 14,
   "metadata": {
    "collapsed": true
   },
   "outputs": [],
   "source": [
    "def getResult(dataset):\n",
    "    results = []\n",
    "    for i in range(0,len(dataset)-1):\n",
    "        results.append(discreteSystem(dataset[i],dataset[i+1]))\n",
    "    return (results)"
   ]
  },
  {
   "cell_type": "code",
   "execution_count": 15,
   "metadata": {
    "collapsed": false,
    "scrolled": false
   },
   "outputs": [],
   "source": [
    "%%capture\n",
    "#Calculate mean entropy within data set\n",
    "set1 = data[:36]\n",
    "set2 = data[36:72]\n",
    "set3 = data[72:]\n",
    "\n",
    "results = [getResult(set1),getResult(set2),getResult(set3)]\n",
    "mean = [np.mean(results[0]),np.mean(results[1]),np.mean(results[2])]\n",
    "std = [np.std(results[0]),np.std(results[1]),np.std(results[2])]"
   ]
  },
  {
   "cell_type": "code",
   "execution_count": 16,
   "metadata": {
    "collapsed": true
   },
   "outputs": [],
   "source": [
    "%%capture\n",
    "#Calculate mean entropy within random data set\n",
    "rset1 = randomData[:36]\n",
    "rset2 = randomData[36:72]\n",
    "rset3 = randomData[72:]\n",
    "\n",
    "randomResults = [getResult(rset1),getResult(rset2),getResult(rset3)]\n",
    "randomMean = [np.mean(randomResults[0]),np.mean(randomResults[1]),np.mean(randomResults[2])]\n",
    "randomStd = [np.std(randomResults[0]),np.std(randomResults[1]),np.std(randomResults[2])]"
   ]
  },
  {
   "cell_type": "code",
   "execution_count": 19,
   "metadata": {
    "collapsed": false
   },
   "outputs": [
    {
     "name": "stdout",
     "output_type": "stream",
     "text": [
      "Mean Entropy for each Movie set:\n",
      "[2.0081577565715909, 3.061686503117786, 2.4433455987553234]\n",
      "\n",
      "Standard Deviation of Entropy for each Movie set:\n",
      "[0.051823699522977655, 0.083982159908789905, 0.11593142851734078]\n",
      "\n",
      "Mean Entropy for some random set:\n",
      "[0.91280113051636746, 0.81346460596606085, 0.97249107810373314]\n",
      "\n",
      "Standard Deviation of Entropy for some random set:\n",
      "[0.47611216567215658, 0.42179847505203855, 0.40267134134559768]\n"
     ]
    }
   ],
   "source": [
    "# print(results)\n",
    "print(\"Mean Entropy for each Movie set:\")\n",
    "print(mean)\n",
    "print(\"\")\n",
    "\n",
    "print(\"Standard Deviation of Entropy for each Movie set:\")\n",
    "print(std)\n",
    "print(\"\")\n",
    "\n",
    "# print(randomResults)\n",
    "print(\"Mean Entropy for some random set:\")\n",
    "print(randomMean)\n",
    "print(\"\")\n",
    "\n",
    "print(\"Standard Deviation of Entropy for some random set:\")\n",
    "print(randomStd)"
   ]
  },
  {
   "cell_type": "code",
   "execution_count": 18,
   "metadata": {
    "collapsed": false
   },
   "outputs": [
    {
     "name": "stdout",
     "output_type": "stream",
     "text": [
      "T-test Results for 2 samples:\n",
      "Ttest_indResult(statistic=26.280924691824005, pvalue=5.0377465311562122e-68)\n"
     ]
    }
   ],
   "source": [
    "#Compare similarity\n",
    "ttest = stats.ttest_ind(results[0] + results[1] + results[2], randomResults[0] + randomResults[1] + randomResults[2])\n",
    "print(\"T-test Results for 2 samples:\")\n",
    "print(ttest)"
   ]
  },
  {
   "cell_type": "code",
   "execution_count": null,
   "metadata": {
    "collapsed": true
   },
   "outputs": [],
   "source": [
    "#Null Hypothesis = There is difference between samples\n",
    "#alpha = 0.05\n",
    "#p-value = 5.0377465311562122e-68\n",
    "#Since p-value <<< alpha, reject the null hypothesis. \n",
    "#Therefore, the difference between the population means is statistically significant"
   ]
  }
 ],
 "metadata": {
  "anaconda-cloud": {},
  "kernelspec": {
   "display_name": "Python [conda env:py27]",
   "language": "python",
   "name": "conda-env-py27-py"
  },
  "language_info": {
   "codemirror_mode": {
    "name": "ipython",
    "version": 2
   },
   "file_extension": ".py",
   "mimetype": "text/x-python",
   "name": "python",
   "nbconvert_exporter": "python",
   "pygments_lexer": "ipython2",
   "version": "2.7.12"
  }
 },
 "nbformat": 4,
 "nbformat_minor": 0
}
