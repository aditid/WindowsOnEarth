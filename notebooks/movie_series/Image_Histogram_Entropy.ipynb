{
 "cells": [
  {
   "cell_type": "code",
   "execution_count": 136,
   "metadata": {
    "collapsed": true
   },
   "outputs": [],
   "source": [
    "#Image Histogram Entropy\n",
    "\n",
    "#Install Macports here\n",
    "#https://guide.macports.org/chunked/installing.macports.html\n",
    "#Install pyentropy here\n",
    "#https://github.com/robince/pyentropy/blob/master/docs/source/examples.rst"
   ]
  },
  {
   "cell_type": "code",
   "execution_count": 187,
   "metadata": {
    "collapsed": false
   },
   "outputs": [],
   "source": [
    "import numpy as np\n",
    "import matplotlib.pyplot as plt\n",
    "import matplotlib.image as mpimg\n",
    "import scipy\n",
    "import scipy.misc\n",
    "import os\n",
    "import random\n",
    "from PIL import ImageChops\n",
    "from PIL import Image\n",
    "from scipy import stats\n",
    "import math"
   ]
  },
  {
   "cell_type": "code",
   "execution_count": 138,
   "metadata": {
    "collapsed": true
   },
   "outputs": [],
   "source": [
    "#Constants\n",
    "imageX = 64\n",
    "imageY = 64"
   ]
  },
  {
   "cell_type": "code",
   "execution_count": 139,
   "metadata": {
    "collapsed": false
   },
   "outputs": [],
   "source": [
    "def forceLandscape(image):\n",
    "    if image.shape[0] > image.shape[1]:\n",
    "        return np.rot90(image)\n",
    "    return image\n",
    "\n",
    "#functions for array\n",
    "def resizeImage(image, x, y):\n",
    "    return scipy.misc.imresize(image,(x,y), interp='nearest')\n",
    "\n",
    "def grayscale(image):\n",
    "    return np.dot(image[...,:3], [0.21, 0.72, 0.07])\n",
    "\n",
    "def reshape(image):\n",
    "    return image.flatten()\n",
    "\n",
    "#functions for images\n",
    "def resizeNearest(image, x, y):\n",
    "    # use nearest neighbour\n",
    "     return (image.resize((x, y), Image.NEAREST))\n",
    "    \n",
    "def resizeLinear(image, x, y):\n",
    "    # linear interpolation in a 2x2 environment\n",
    "    return(image.resize((x, y), Image.BILINEAR))\n",
    "\n",
    "def resizeLinear(image, x, y):\n",
    "    # cubic spline interpolation in a 4x4 environment\n",
    "    return(image.resize((x, y), Image.BICUBIC))\n",
    "\n",
    "def resizeLinear(image, x, y):\n",
    "    # best down-sizing filter\n",
    "    return (image.resize((x, y), Image.ANTIALIAS))\n"
   ]
  },
  {
   "cell_type": "code",
   "execution_count": 140,
   "metadata": {
    "collapsed": true
   },
   "outputs": [],
   "source": [
    "def formatImage(image):\n",
    "    image = forceLandscape(image)\n",
    "    image = resizeImage(image, imageX, imageY)\n",
    "    image = grayscale(image)\n",
    "    return image"
   ]
  },
  {
   "cell_type": "code",
   "execution_count": 158,
   "metadata": {
    "collapsed": false
   },
   "outputs": [],
   "source": [
    "#Load Movie Images\n",
    "datasetPath = '../../../TERC/WinEarthPhotosByKeyword/'\n",
    "imageClass = 'Movies3of36PhotosEach'\n",
    "imageDirectory = os.listdir(datasetPath + imageClass)\n",
    "if imageDirectory[0] == '.DS_Store':\n",
    "    imageDirectory.pop(0)\n",
    "data = imageDirectory"
   ]
  },
  {
   "cell_type": "code",
   "execution_count": 176,
   "metadata": {
    "collapsed": false
   },
   "outputs": [],
   "source": [
    "#Load Random Images\n",
    "datasetPath2 = '../../../BU10000SetA/'\n",
    "imageDirectory2 = [random.choice(os.listdir(datasetPath2)) for x in range(0,108)]\n",
    "if imageDirectory2[0] == '.DS_Store':\n",
    "    imageDirectory2.pop(0)\n",
    "randomData = imageDirectory2"
   ]
  },
  {
   "cell_type": "code",
   "execution_count": 160,
   "metadata": {
    "collapsed": false
   },
   "outputs": [
    {
     "name": "stdout",
     "output_type": "stream",
     "text": [
      "loading complete\n"
     ]
    }
   ],
   "source": [
    "for i in range(0, len(data)):\n",
    "    imagePath = datasetPath + imageClass + \"/\" +  data[i]\n",
    "    #img = mpimg.imread(imagePath)\n",
    "    #img = formatImage(img)\n",
    "    #img = reshape(img)        #flatten the img\n",
    "    img = Image.open(imagePath)\n",
    "    data[i] = resizeNearest(img, imageX, imageY)\n",
    "    \n",
    "print(\"loading complete\")"
   ]
  },
  {
   "cell_type": "code",
   "execution_count": 177,
   "metadata": {
    "collapsed": false
   },
   "outputs": [
    {
     "name": "stdout",
     "output_type": "stream",
     "text": [
      "loading complete\n"
     ]
    }
   ],
   "source": [
    "#random data loading\n",
    "for i in range(0, len(randomData)):\n",
    "    imagePath = datasetPath2 +  randomData[i]\n",
    "    #img = mpimg.imread(imagePath)\n",
    "    #img = formatImage(img)\n",
    "    #img = reshape(img)        #flatten the img\n",
    "    img = Image.open(imagePath)\n",
    "    randomData[i] = resizeNearest(img, imageX, imageY)\n",
    "\n",
    "print(\"loading complete\")"
   ]
  },
  {
   "cell_type": "code",
   "execution_count": 178,
   "metadata": {
    "collapsed": true
   },
   "outputs": [],
   "source": [
    "def DoComparison(image1, image2):\n",
    "    diffs = ImageChops.difference(image1, image2)\n",
    "    return ImageEntropy(diffs)\n",
    "\n",
    "def ImageEntropy(image):\n",
    "    histogram   = image.histogram()\n",
    "    histlength  = sum(histogram)\n",
    "    probability = [float(h) / histlength for h in histogram]\n",
    "    return -sum([p * math.log(p, 2) for p in probability if p != 0])"
   ]
  },
  {
   "cell_type": "code",
   "execution_count": 179,
   "metadata": {
    "collapsed": false
   },
   "outputs": [],
   "source": [
    "def getResult(dataset):\n",
    "    results = []\n",
    "    for i in range(0,len(dataset)-1):\n",
    "        results.append(DoComparison(dataset[i],dataset[i+1]))\n",
    "    return (results)"
   ]
  },
  {
   "cell_type": "code",
   "execution_count": 183,
   "metadata": {
    "collapsed": false
   },
   "outputs": [],
   "source": [
    "#Calculate mean entropy within image set\n",
    "set1 = data[:36]\n",
    "set2 = data[36:72]\n",
    "set3 = data[72:]\n",
    "\n",
    "results = [getResult(set1),getResult(set2),getResult(set3)]\n",
    "mean = [np.mean(results[0]),np.mean(results[1]),np.mean(results[2])]\n",
    "std = [np.std(results[0]),np.std(results[1]),np.std(results[2])]"
   ]
  },
  {
   "cell_type": "code",
   "execution_count": 184,
   "metadata": {
    "collapsed": true
   },
   "outputs": [],
   "source": [
    "#Calculate mean entropy within random image set\n",
    "rset1 = randomData[:36]\n",
    "rset2 = randomData[36:72]\n",
    "rset3 = randomData[72:]\n",
    "\n",
    "randomResults = [getResult(rset1),getResult(rset2),getResult(rset3)]\n",
    "randomMean = [np.mean(randomResults[0]),np.mean(randomResults[1]),np.mean(randomResults[2])]\n",
    "randomStd = [np.std(randomResults[0]),np.std(randomResults[1]),np.std(randomResults[2])]"
   ]
  },
  {
   "cell_type": "code",
   "execution_count": 202,
   "metadata": {
    "collapsed": false
   },
   "outputs": [
    {
     "name": "stdout",
     "output_type": "stream",
     "text": [
      "Mean of Image Histogram Entropy for each Movie set:\n",
      "[6.03815683856444, 5.8963458297855427, 7.0027725509926499]\n",
      "\n",
      "Standard Deviation of Image Histogram Entropy for each Movie set:\n",
      "[0.072218547551981982, 0.081177359126374013, 0.26621763876837945]\n",
      "\n",
      "Mean of Image Histogram Entropy for some random set:\n",
      "[8.3345101739981189, 8.4000857948595034, 8.5795720807816362]\n",
      "\n",
      "Standard Deviation of Image Histogram Entropy for some random set:\n",
      "[0.52367929699478311, 0.61853269880855044, 0.3723146448851769]\n"
     ]
    }
   ],
   "source": [
    "# print(results)\n",
    "print(\"Mean of Image Histogram Entropy for each Movie set:\")\n",
    "print(mean)\n",
    "print(\"\")\n",
    "\n",
    "print(\"Standard Deviation of Image Histogram Entropy for each Movie set:\")\n",
    "print(std)\n",
    "print(\"\")\n",
    "\n",
    "# print(randomResults)\n",
    "print(\"Mean of Image Histogram Entropy for some random set:\")\n",
    "print(randomMean)\n",
    "print(\"\")\n",
    "\n",
    "print(\"Standard Deviation of Image Histogram Entropy for some random set:\")\n",
    "print(randomStd)"
   ]
  },
  {
   "cell_type": "code",
   "execution_count": 199,
   "metadata": {
    "collapsed": false
   },
   "outputs": [
    {
     "name": "stdout",
     "output_type": "stream",
     "text": [
      "T-test Results for 2 samples:\n",
      "Ttest_indResult(statistic=-29.361304588263625, pvalue=6.4247764833532715e-76)\n"
     ]
    }
   ],
   "source": [
    "#Compare similarity\n",
    "ttest = stats.ttest_ind(results[0] + results[1] + results[2], randomResults[0] + randomResults[1] + randomResults[2])\n",
    "print(\"T-test Results for 2 samples:\")\n",
    "print(ttest)"
   ]
  },
  {
   "cell_type": "code",
   "execution_count": null,
   "metadata": {
    "collapsed": true
   },
   "outputs": [],
   "source": [
    "#Null Hypothesis = There is difference between samples\n",
    "#alpha = 0.05\n",
    "#p-value = 6.4247764833532715e-76\n",
    "#Since p-value <<< alpha, reject the null hypothesis. \n",
    "#Therefore, the difference between the population means is statistically significant"
   ]
  }
 ],
 "metadata": {
  "anaconda-cloud": {},
  "kernelspec": {
   "display_name": "Python [conda env:py27]",
   "language": "python",
   "name": "conda-env-py27-py"
  },
  "language_info": {
   "codemirror_mode": {
    "name": "ipython",
    "version": 2
   },
   "file_extension": ".py",
   "mimetype": "text/x-python",
   "name": "python",
   "nbconvert_exporter": "python",
   "pygments_lexer": "ipython2",
   "version": "2.7.12"
  }
 },
 "nbformat": 4,
 "nbformat_minor": 0
}
