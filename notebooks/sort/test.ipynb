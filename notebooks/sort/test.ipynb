{
 "cells": [
  {
   "cell_type": "code",
   "execution_count": 1,
   "metadata": {
    "collapsed": false
   },
   "outputs": [],
   "source": [
    "import numpy as np\n",
    "import matplotlib.pyplot as plt\n",
    "import matplotlib.image as mpimg\n",
    "import scipy\n",
    "import os\n",
    "import PIL.Image\n",
    "import PIL.ExifTags\n"
   ]
  },
  {
   "cell_type": "code",
   "execution_count": 4,
   "metadata": {
    "collapsed": false
   },
   "outputs": [
    {
     "name": "stdout",
     "output_type": "stream",
     "text": [
      "{36864: b'0230', 37377: (10643856, 1000000), 37378: (4643856, 1000000), 36867: '2008:10:15 09:32:49', 36868: '2008:10:15 09:32:49', 37381: (46, 10), 41990: 0, 37383: 5, 37384: 9, 37385: 0, 37386: (1350, 10), 41996: 0, 41730: b'\\x02\\x00\\x02\\x00\\x00\\x01\\x01\\x02', 271: 'NIKON CORPORATION', 272: 'NIKON D3', 37521: '33', 37522: '33', 41987: 1, 41992: 0, 41495: 2, 37380: (0, 6), 282: (240, 1), 283: (240, 1), 33434: (1, 1600), 41988: (1, 1), 41989: 135, 34850: 3, 40961: 1, 34853: {0: b'\\x02\\x02\\x00\\x00', 1: 'S', 2: ((47, 1), (25638, 10000), (0, 1)), 3: 'W', 4: ((169, 1), (452763, 10000), (0, 1)), 6: (8423943, 23), 13: (1356632, 49)}, 34855: 200, 296: 2, 41991: 0, 42034: ((800, 10), (4000, 10), (45, 10), (56, 10)), 33437: (5, 1), 305: 'Adobe Photoshop Lightroom 6.12 (Macintosh)', 306: '2017:09:15 10:30:01', 42036: '80.0-400.0 mm f/4.5-5.6', 41993: 0, 41729: b'\\x01', 41994: 0, 41728: b'\\x03', 41985: 0, 41986: 0, 42033: '2055552', 34665: 230}\n"
     ]
    }
   ],
   "source": [
    "\n",
    "# dictionary indexed by EXIF numeric tag\n",
    "img = PIL.Image.open('img.jpg')\n",
    "exif_data = img._getexif()\n",
    "\n",
    "print(exif_data)"
   ]
  },
  {
   "cell_type": "code",
   "execution_count": 6,
   "metadata": {
    "collapsed": false
   },
   "outputs": [
    {
     "name": "stdout",
     "output_type": "stream",
     "text": [
      "{'GainControl': 0, 'Software': 'Adobe Photoshop Lightroom 6.12 (Macintosh)', 'FocalLengthIn35mmFilm': 135, 'CFAPattern': b'\\x02\\x00\\x02\\x00\\x00\\x01\\x01\\x02', 'SceneCaptureType': 0, 'ExifOffset': 230, 'SubsecTimeOriginal': '33', 'ExposureTime': (1, 1600), 'BodySerialNumber': '2055552', 'LightSource': 9, 'YResolution': (240, 1), 'MaxApertureValue': (46, 10), 'FNumber': (5, 1), 'Sharpness': 0, 'ExposureProgram': 3, 'ApertureValue': (4643856, 1000000), 'LensSpecification': ((800, 10), (4000, 10), (45, 10), (56, 10)), 'ResolutionUnit': 2, 'Contrast': 0, 'ExifVersion': b'0230', 'FocalLength': (1350, 10), 'SubjectDistanceRange': 0, 'ExposureBiasValue': (0, 6), 'FileSource': b'\\x03', 'GPSInfo': {0: b'\\x02\\x02\\x00\\x00', 1: 'S', 2: ((47, 1), (25638, 10000), (0, 1)), 3: 'W', 4: ((169, 1), (452763, 10000), (0, 1)), 6: (8423943, 23), 13: (1356632, 49)}, 'ISOSpeedRatings': 200, 'LensModel': '80.0-400.0 mm f/4.5-5.6', 'ShutterSpeedValue': (10643856, 1000000), 'Model': 'NIKON D3', 'ColorSpace': 1, 'WhiteBalance': 1, 'ExposureMode': 0, 'Make': 'NIKON CORPORATION', 'DateTime': '2017:09:15 10:30:01', 'MeteringMode': 5, 'DigitalZoomRatio': (1, 1), 'SensingMethod': 2, 'SceneType': b'\\x01', 'CustomRendered': 0, 'DateTimeOriginal': '2008:10:15 09:32:49', 'DateTimeDigitized': '2008:10:15 09:32:49', 'SubsecTimeDigitized': '33', 'Flash': 0, 'XResolution': (240, 1), 'Saturation': 0}\n"
     ]
    }
   ],
   "source": [
    "#dictionary indexed by the EXIF tag name strings\n",
    "exif = {\n",
    "    PIL.ExifTags.TAGS[k]: v\n",
    "    for k, v in img._getexif().items()\n",
    "    if k in PIL.ExifTags.TAGS\n",
    "}\n",
    "print(exif)"
   ]
  },
  {
   "cell_type": "code",
   "execution_count": 46,
   "metadata": {
    "collapsed": false
   },
   "outputs": [
    {
     "name": "stdout",
     "output_type": "stream",
     "text": [
      "<PIL.JpegImagePlugin.JpegImageFile image mode=RGB size=4256x2832 at 0x10FAF5048>\n",
      "ExifVersion b'0230'\n",
      "ShutterSpeedValue (10643856, 1000000)\n",
      "ApertureValue (4643856, 1000000)\n",
      "DateTimeOriginal 2008:10:15 09:32:49\n",
      "DateTimeDigitized 2008:10:15 09:32:49\n",
      "MaxApertureValue (46, 10)\n",
      "SceneCaptureType 0\n",
      "MeteringMode 5\n",
      "LightSource 9\n",
      "Flash 0\n",
      "FocalLength (1350, 10)\n",
      "SubjectDistanceRange 0\n",
      "CFAPattern b'\\x02\\x00\\x02\\x00\\x00\\x01\\x01\\x02'\n",
      "Make NIKON CORPORATION\n",
      "Model NIKON D3\n",
      "SubsecTimeOriginal 33\n",
      "SubsecTimeDigitized 33\n",
      "WhiteBalance 1\n",
      "Contrast 0\n",
      "SensingMethod 2\n",
      "ExposureBiasValue (0, 6)\n",
      "XResolution (240, 1)\n",
      "YResolution (240, 1)\n",
      "ExposureTime (1, 1600)\n",
      "DigitalZoomRatio (1, 1)\n",
      "FocalLengthIn35mmFilm 135\n",
      "ExposureProgram 3\n",
      "ColorSpace 1\n",
      "GPSInfo {0: b'\\x02\\x02\\x00\\x00', 1: 'S', 2: ((47, 1), (25638, 10000), (0, 1)), 3: 'W', 4: ((169, 1), (452763, 10000), (0, 1)), 6: (8423943, 23), 13: (1356632, 49)}\n",
      "ISOSpeedRatings 200\n",
      "ResolutionUnit 2\n",
      "GainControl 0\n",
      "LensSpecification ((800, 10), (4000, 10), (45, 10), (56, 10))\n",
      "FNumber (5, 1)\n",
      "Software Adobe Photoshop Lightroom 6.12 (Macintosh)\n",
      "DateTime 2017:09:15 10:30:01\n",
      "LensModel 80.0-400.0 mm f/4.5-5.6\n",
      "Saturation 0\n",
      "SceneType b'\\x01'\n",
      "Sharpness 0\n",
      "FileSource b'\\x03'\n",
      "CustomRendered 0\n",
      "ExposureMode 0\n",
      "BodySerialNumber 2055552\n",
      "ExifOffset 230\n"
     ]
    }
   ],
   "source": [
    "from PIL import Image \n",
    "from PIL.ExifTags import TAGS, GPSTAGS \n",
    "image = Image.open(\"img.jpg\") \n",
    "print(image) \n",
    "info = image._getexif() \n",
    "for tag, value in info.items(): \n",
    "    key = TAGS.get(tag, tag) \n",
    "    print(key + \" \" + str(value))\n",
    "# print(info)"
   ]
  },
  {
   "cell_type": "code",
   "execution_count": 51,
   "metadata": {
    "collapsed": false
   },
   "outputs": [
    {
     "name": "stdout",
     "output_type": "stream",
     "text": [
      "Model b'NIKON D3'\n",
      "Software b'Adobe Photoshop Lightroom 6.12 (Macintosh)'\n",
      "DateTime b'2017:09:15 10:30:01'\n",
      "GPSTag 844\n",
      "ResolutionUnit 2\n",
      "ExifTag 230\n",
      "XResolution (240, 1)\n",
      "YResolution (240, 1)\n",
      "Make b'NIKON CORPORATION'\n",
      "ExifVersion b'0230'\n",
      "ShutterSpeedValue (10643856, 1000000)\n",
      "ApertureValue (4643856, 1000000)\n",
      "DateTimeOriginal b'2008:10:15 09:32:49'\n",
      "DateTimeDigitized b'2008:10:15 09:32:49'\n",
      "MaxApertureValue (46, 10)\n",
      "SceneCaptureType 0\n",
      "MeteringMode 5\n",
      "LightSource 9\n",
      "Flash 0\n",
      "FocalLength (1350, 10)\n",
      "DigitalZoomRatio (1, 1)\n",
      "SubjectDistanceRange 0\n",
      "CFAPattern b'\\x02\\x00\\x02\\x00\\x00\\x01\\x01\\x02'\n",
      "SubSecTimeOriginal b'33'\n",
      "SubSecTimeDigitized b'33'\n",
      "WhiteBalance 1\n",
      "ExposureMode 0\n",
      "SensingMethod 2\n",
      "ExposureBiasValue (0, 6)\n",
      "ExposureTime (1, 1600)\n",
      "FNumber (5, 1)\n",
      "FileSource b'\\x03'\n",
      "FocalLengthIn35mmFilm 135\n",
      "ExposureProgram 3\n",
      "ColorSpace 1\n",
      "BodySerialNumber b'2055552'\n",
      "ISOSpeedRatings 200\n",
      "GainControl 0\n",
      "Contrast 0\n",
      "LensSpecification ((800, 10), (4000, 10), (45, 10), (56, 10))\n",
      "LensModel b'80.0-400.0 mm f/4.5-5.6'\n",
      "Saturation 0\n",
      "SceneType b'\\x01'\n",
      "Sharpness 0\n",
      "CustomRendered 0\n",
      "GPSVersionID (2, 2, 0, 0)\n",
      "GPSLatitudeRef b'S'\n",
      "GPSLatitude ((47, 1), (25638, 10000), (0, 1))\n",
      "GPSLongitudeRef b'W'\n",
      "GPSLongitude ((169, 1), (452763, 10000), (0, 1))\n",
      "GPSAltitude (8423943, 23)\n",
      "GPSSpeed (1356632, 49)\n",
      "JPEGInterchangeFormat 1092\n",
      "JPEGInterchangeFormatLength 8789\n",
      "Compression 6\n",
      "ResolutionUnit 2\n",
      "XResolution (72, 1)\n",
      "YResolution (72, 1)\n"
     ]
    }
   ],
   "source": [
    "from PIL import Image\n",
    "import piexif\n",
    "exif_dict = piexif.load(\"img.jpg\")\n",
    "for ifd in (\"0th\", \"Exif\", \"GPS\", \"1st\"):\n",
    "    for tag in exif_dict[ifd]:\n",
    "        print(piexif.TAGS[ifd][tag][\"name\"], exif_dict[ifd][tag])"
   ]
  },
  {
   "cell_type": "code",
   "execution_count": 33,
   "metadata": {
    "collapsed": false
   },
   "outputs": [],
   "source": [
    "#standard libraries\n",
    "import glob\n",
    "\n",
    "#external libraries\n",
    "import iptcinfo\n",
    "import pandas as pd\n",
    "\n",
    "#get paths to photos BUSampleDataSet2\n",
    "filenames = glob.glob(\"./BUSampleDataSet/*.jpg\")\n",
    "\n",
    "filename2keywords = dict()\n",
    "\n",
    "for filename in filenames:\n",
    "    keywords = iptcinfo.IPTCInfo(filename).keywords\n",
    "    filename2keywords[filename[18:]] = keywords\n",
    "\n",
    "pd.DataFrame(dict([ (k,pd.Series(v)) for k,v in filename2keywords.items() ])).T.to_csv(\"tags.csv\", header=False)\n"
   ]
  },
  {
   "cell_type": "code",
   "execution_count": 30,
   "metadata": {
    "collapsed": false
   },
   "outputs": [
    {
     "name": "stdout",
     "output_type": "stream",
     "text": [
      "[]\n",
      "{25: [], 20: [], 118: []}\n",
      "['Imagine']\n"
     ]
    },
    {
     "ename": "Exception",
     "evalue": "No IPTC data found.",
     "output_type": "error",
     "traceback": [
      "\u001b[0;31m---------------------------------------------------------------------------\u001b[0m",
      "\u001b[0;31mException\u001b[0m                                 Traceback (most recent call last)",
      "\u001b[0;32m<ipython-input-30-ee9e29cc7c32>\u001b[0m in \u001b[0;36m<module>\u001b[0;34m()\u001b[0m\n\u001b[1;32m      9\u001b[0m \u001b[0minfo\u001b[0m\u001b[0;34m.\u001b[0m\u001b[0mkeywords\u001b[0m\u001b[0;34m.\u001b[0m\u001b[0mappend\u001b[0m\u001b[0;34m(\u001b[0m\u001b[0;34m'Imagine'\u001b[0m\u001b[0;34m)\u001b[0m\u001b[0;34m\u001b[0m\u001b[0m\n\u001b[1;32m     10\u001b[0m \u001b[0;32mprint\u001b[0m\u001b[0;34m(\u001b[0m\u001b[0minfo\u001b[0m\u001b[0;34m.\u001b[0m\u001b[0mkeywords\u001b[0m\u001b[0;34m)\u001b[0m\u001b[0;34m\u001b[0m\u001b[0m\n\u001b[0;32m---> 11\u001b[0;31m \u001b[0minfo\u001b[0m \u001b[0;34m=\u001b[0m \u001b[0miptcinfo\u001b[0m\u001b[0;34m.\u001b[0m\u001b[0mIPTCInfo\u001b[0m\u001b[0;34m(\u001b[0m\u001b[0;34m'test.jpg'\u001b[0m\u001b[0;34m)\u001b[0m\u001b[0;34m.\u001b[0m\u001b[0mkeywords\u001b[0m\u001b[0;34m\u001b[0m\u001b[0m\n\u001b[0m",
      "\u001b[0;32m/Users/aditi/anaconda/envs/python2/lib/python2.7/site-packages/iptcinfo.pyc\u001b[0m in \u001b[0;36m__init__\u001b[0;34m(self, fobj, force, inp_charset, out_charset, *args, **kwds)\u001b[0m\n\u001b[1;32m    481\u001b[0m             \u001b[0mLOG\u001b[0m\u001b[0;34m.\u001b[0m\u001b[0minfo\u001b[0m\u001b[0;34m(\u001b[0m\u001b[0;34m\"No IPTC data found.\"\u001b[0m\u001b[0;34m)\u001b[0m\u001b[0;34m\u001b[0m\u001b[0m\n\u001b[1;32m    482\u001b[0m             \u001b[0mself\u001b[0m\u001b[0;34m.\u001b[0m\u001b[0m_closefh\u001b[0m\u001b[0;34m(\u001b[0m\u001b[0mfh\u001b[0m\u001b[0;34m)\u001b[0m\u001b[0;34m\u001b[0m\u001b[0m\n\u001b[0;32m--> 483\u001b[0;31m             \u001b[0;32mraise\u001b[0m \u001b[0mException\u001b[0m\u001b[0;34m(\u001b[0m\u001b[0;34m\"No IPTC data found.\"\u001b[0m\u001b[0;34m)\u001b[0m\u001b[0;34m\u001b[0m\u001b[0m\n\u001b[0m\u001b[1;32m    484\u001b[0m         \u001b[0mself\u001b[0m\u001b[0;34m.\u001b[0m\u001b[0m_closefh\u001b[0m\u001b[0;34m(\u001b[0m\u001b[0mfh\u001b[0m\u001b[0;34m)\u001b[0m\u001b[0;34m\u001b[0m\u001b[0m\n\u001b[1;32m    485\u001b[0m \u001b[0;34m\u001b[0m\u001b[0m\n",
      "\u001b[0;31mException\u001b[0m: No IPTC data found."
     ]
    }
   ],
   "source": [
    "filename = \"img.jpg\"\n",
    "\n",
    "\n",
    "# keywords = iptcinfo.IPTCInfo(\"test.jpg\")\n",
    "info = iptcinfo.IPTCInfo('test.jpg', force=True)\n",
    "\n",
    "print(info.keywords)\n",
    "print(info.data)\n",
    "info.keywords.append('Imagine')\n",
    "print(info.keywords)\n",
    "info = iptcinfo.IPTCInfo('test.jpg').keywords"
   ]
  },
  {
   "cell_type": "code",
   "execution_count": 20,
   "metadata": {
    "collapsed": false
   },
   "outputs": [
    {
     "name": "stdout",
     "output_type": "stream",
     "text": [
      "('WARNING: problems with charset recognition', \"'\\\\x1b'\")\n"
     ]
    }
   ],
   "source": [
    "info = iptcinfo.IPTCInfo('img.jpg', force=True)\n"
   ]
  },
  {
   "cell_type": "code",
   "execution_count": null,
   "metadata": {
    "collapsed": true
   },
   "outputs": [],
   "source": [
    "#fix ^warning problem, incorporate greg's code"
   ]
  }
 ],
 "metadata": {
  "anaconda-cloud": {},
  "kernelspec": {
   "display_name": "Python 2",
   "language": "python",
   "name": "python2"
  },
  "language_info": {
   "codemirror_mode": {
    "name": "ipython",
    "version": 2
   },
   "file_extension": ".py",
   "mimetype": "text/x-python",
   "name": "python",
   "nbconvert_exporter": "python",
   "pygments_lexer": "ipython2",
   "version": "2.7.11"
  }
 },
 "nbformat": 4,
 "nbformat_minor": 0
}
